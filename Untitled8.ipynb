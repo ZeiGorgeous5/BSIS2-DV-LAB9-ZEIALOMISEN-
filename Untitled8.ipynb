{
  "nbformat": 4,
  "nbformat_minor": 0,
  "metadata": {
    "colab": {
      "provenance": [],
      "authorship_tag": "ABX9TyM5+nOHewR4QUf4beHgzk6c",
      "include_colab_link": true
    },
    "kernelspec": {
      "name": "python3",
      "display_name": "Python 3"
    },
    "language_info": {
      "name": "python"
    }
  },
  "cells": [
    {
      "cell_type": "markdown",
      "metadata": {
        "id": "view-in-github",
        "colab_type": "text"
      },
      "source": [
        "<a href=\"https://colab.research.google.com/github/ZeiGorgeous5/BSIS2-DV-LAB9-ZEIALOMISEN-/blob/main/Untitled8.ipynb\" target=\"_parent\"><img src=\"https://colab.research.google.com/assets/colab-badge.svg\" alt=\"Open In Colab\"/></a>"
      ]
    },
    {
      "cell_type": "code",
      "execution_count": 1,
      "metadata": {
        "colab": {
          "base_uri": "https://localhost:8080/"
        },
        "id": "ZRT4iM86FcrO",
        "outputId": "d25d2ff9-0ba7-4c70-f106-628ff687a226"
      },
      "outputs": [
        {
          "output_type": "stream",
          "name": "stdout",
          "text": [
            "()\n"
          ]
        }
      ],
      "source": [
        "emptyT=()\n",
        "print(emptyT)"
      ]
    },
    {
      "cell_type": "code",
      "source": [
        "z=(9,7,3,8,)\n",
        "print(z)"
      ],
      "metadata": {
        "colab": {
          "base_uri": "https://localhost:8080/"
        },
        "id": "VC1_QF-OFziW",
        "outputId": "5052b8f7-12d5-4838-97ba-5c1d7c5f9cd3"
      },
      "execution_count": 2,
      "outputs": [
        {
          "output_type": "stream",
          "name": "stdout",
          "text": [
            "(9, 7, 3, 8)\n"
          ]
        }
      ]
    },
    {
      "cell_type": "code",
      "source": [
        "tup1=('ZEIERRINE',)\n",
        "tup2='ZEI',\n",
        "notTuple=('ZEI-VIE')\n",
        "print(type(notTuple))"
      ],
      "metadata": {
        "colab": {
          "base_uri": "https://localhost:8080/"
        },
        "id": "6qCV96VmF5zE",
        "outputId": "649ed8f5-22bb-4934-e4c5-8d428c62bdae"
      },
      "execution_count": 3,
      "outputs": [
        {
          "output_type": "stream",
          "name": "stdout",
          "text": [
            "<class 'str'>\n"
          ]
        }
      ]
    },
    {
      "cell_type": "code",
      "source": [
        "\n",
        "\n",
        "z=(9,7,3,8)\n",
        "print(z[0])"
      ],
      "metadata": {
        "colab": {
          "base_uri": "https://localhost:8080/"
        },
        "id": "RUC3PzNCGG42",
        "outputId": "eb1b784b-c861-41ff-acd8-9570076a5ed1"
      },
      "execution_count": 4,
      "outputs": [
        {
          "output_type": "stream",
          "name": "stdout",
          "text": [
            "9\n"
          ]
        }
      ]
    },
    {
      "cell_type": "code",
      "source": [
        "\n",
        "\n",
        "z=(9,7,3,8)\n",
        "print(z[-1])"
      ],
      "metadata": {
        "colab": {
          "base_uri": "https://localhost:8080/"
        },
        "id": "jSB3acmmGR1T",
        "outputId": "cefd3146-0f31-4bb1-9b84-90719a03e6d8"
      },
      "execution_count": 5,
      "outputs": [
        {
          "output_type": "stream",
          "name": "stdout",
          "text": [
            "8\n"
          ]
        }
      ]
    },
    {
      "cell_type": "code",
      "source": [
        "z=(9,7,3,8)\n",
        "print(z[0:2])"
      ],
      "metadata": {
        "colab": {
          "base_uri": "https://localhost:8080/"
        },
        "id": "MzeVgpRTGVAG",
        "outputId": "acb1128b-c8c7-4b52-fb6b-b419b073c51a"
      },
      "execution_count": 6,
      "outputs": [
        {
          "output_type": "stream",
          "name": "stdout",
          "text": [
            "(9, 7)\n"
          ]
        }
      ]
    },
    {
      "cell_type": "code",
      "source": [
        "z=(9,7,3,8)\n",
        "print(z[-4:-1])"
      ],
      "metadata": {
        "colab": {
          "base_uri": "https://localhost:8080/"
        },
        "id": "OK_qRQ0aGhXr",
        "outputId": "7dd105e0-18c2-4135-b9d6-b83d5bb12613"
      },
      "execution_count": 7,
      "outputs": [
        {
          "output_type": "stream",
          "name": "stdout",
          "text": [
            "(9, 7, 3)\n"
          ]
        }
      ]
    },
    {
      "cell_type": "code",
      "source": [
        "a,b,c,d=(9,7,3,8)\n",
        "print(a)\n",
        "print(b)\n",
        "print(c)\n",
        "print(d)"
      ],
      "metadata": {
        "colab": {
          "base_uri": "https://localhost:8080/"
        },
        "id": "8KLFcXzkGnLE",
        "outputId": "9fe6cbf0-b657-4309-d72c-84917c38ee91"
      },
      "execution_count": 8,
      "outputs": [
        {
          "output_type": "stream",
          "name": "stdout",
          "text": [
            "9\n",
            "7\n",
            "3\n",
            "8\n"
          ]
        }
      ]
    },
    {
      "cell_type": "code",
      "source": [
        "\n",
        "characs=('DONG JOO','WOOJIN','EUNJAE','KIMSABU')\n",
        "for index, characs in enumerate(characs):\n",
        "   print(index,characs)"
      ],
      "metadata": {
        "colab": {
          "base_uri": "https://localhost:8080/"
        },
        "id": "ITG1ZypjGqgU",
        "outputId": "11045c18-61be-4fd4-e255-b6156ccfbaa0"
      },
      "execution_count": 9,
      "outputs": [
        {
          "output_type": "stream",
          "name": "stdout",
          "text": [
            "0 DONG JOO\n",
            "1 WOOJIN\n",
            "2 EUNJAE\n",
            "3 KIMSABU\n"
          ]
        }
      ]
    },
    {
      "cell_type": "code",
      "source": [
        "emptyT=tuple()\n",
        "print(emptyT)"
      ],
      "metadata": {
        "colab": {
          "base_uri": "https://localhost:8080/"
        },
        "id": "LyxqI1MJG7hn",
        "outputId": "0b8c221d-4767-44f0-92c8-84e709eff8c2"
      },
      "execution_count": 11,
      "outputs": [
        {
          "output_type": "stream",
          "name": "stdout",
          "text": [
            "()\n"
          ]
        }
      ]
    }
  ]
}